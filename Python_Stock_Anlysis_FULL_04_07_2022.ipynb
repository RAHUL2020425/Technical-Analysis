{
 "cells": [
  {
   "cell_type": "code",
   "execution_count": 59,
   "id": "41d53feb",
   "metadata": {},
   "outputs": [],
   "source": [
    "## You can use this Code to check the analysis of Stocck Just you need to put the stock name from yahoo fiance in list of stock\n",
    "## same as mentioned in list_of_stock=[\"IBULHSGFIN.NS\",\"LICHSGFIN.NS\",\"BAJFINANCE.NS\"]##\n",
    "import pandas as pd\n",
    "import numpy as np\n",
    "import matplotlib.pyplot as plt\n",
    "import talib as ta\n",
    "import math\n",
    "import os\n",
    "import yfinance as yf\n",
    "from datetime import date"
   ]
  },
  {
   "cell_type": "code",
   "execution_count": 105,
   "id": "2aeb889a",
   "metadata": {},
   "outputs": [],
   "source": [
    "## You just need to chanmge the stock name which you want to analyse##\n",
    "\n",
    "list_of_stock=[\"IBULHSGFIN.NS\",\"LICHSGFIN.NS\",\"BAJFINANCE.NS\"]"
   ]
  },
  {
   "cell_type": "code",
   "execution_count": 106,
   "id": "a7fcab53",
   "metadata": {},
   "outputs": [
    {
     "name": "stdout",
     "output_type": "stream",
     "text": [
      "[*********************100%***********************]  1 of 1 completed\n",
      "[*********************100%***********************]  1 of 1 completed\n",
      "[*********************100%***********************]  1 of 1 completed\n"
     ]
    }
   ],
   "source": [
    "## Downloading The Data from Yahoo finance ##\n",
    "## Librarey Used Yfinace ##\n",
    "df=pd.DataFrame()  ## It have been intialise because if you run the code again it wwill generate the Empty DataFrame\n",
    "## the below code can be created by defining the function and passing the dates and list of stock ##\n",
    "for item in list_of_stock:\n",
    "    \n",
    "    start_date=\"2017-01-01\"\n",
    "    end_date=\"2022-07-03\"\n",
    "    \n",
    "    df[item]=pd.DataFrame(yf.download(item,start=start_date,end=end_date,index=0,parse_dates=True)[\"Adj Close\"])"
   ]
  },
  {
   "cell_type": "code",
   "execution_count": 107,
   "id": "d4a91c54",
   "metadata": {},
   "outputs": [
    {
     "data": {
      "text/html": [
       "<div>\n",
       "<style scoped>\n",
       "    .dataframe tbody tr th:only-of-type {\n",
       "        vertical-align: middle;\n",
       "    }\n",
       "\n",
       "    .dataframe tbody tr th {\n",
       "        vertical-align: top;\n",
       "    }\n",
       "\n",
       "    .dataframe thead th {\n",
       "        text-align: right;\n",
       "    }\n",
       "</style>\n",
       "<table border=\"1\" class=\"dataframe\">\n",
       "  <thead>\n",
       "    <tr style=\"text-align: right;\">\n",
       "      <th></th>\n",
       "      <th>IBULHSGFIN.NS</th>\n",
       "      <th>LICHSGFIN.NS</th>\n",
       "      <th>BAJFINANCE.NS</th>\n",
       "    </tr>\n",
       "    <tr>\n",
       "      <th>Date</th>\n",
       "      <th></th>\n",
       "      <th></th>\n",
       "      <th></th>\n",
       "    </tr>\n",
       "  </thead>\n",
       "  <tbody>\n",
       "    <tr>\n",
       "      <th>2017-01-02</th>\n",
       "      <td>545.694153</td>\n",
       "      <td>479.882751</td>\n",
       "      <td>858.305359</td>\n",
       "    </tr>\n",
       "    <tr>\n",
       "      <th>2017-01-03</th>\n",
       "      <td>532.507019</td>\n",
       "      <td>480.969116</td>\n",
       "      <td>872.067017</td>\n",
       "    </tr>\n",
       "    <tr>\n",
       "      <th>2017-01-04</th>\n",
       "      <td>517.631409</td>\n",
       "      <td>467.978546</td>\n",
       "      <td>860.130432</td>\n",
       "    </tr>\n",
       "    <tr>\n",
       "      <th>2017-01-05</th>\n",
       "      <td>525.591858</td>\n",
       "      <td>473.545929</td>\n",
       "      <td>887.604431</td>\n",
       "    </tr>\n",
       "    <tr>\n",
       "      <th>2017-01-06</th>\n",
       "      <td>528.647339</td>\n",
       "      <td>474.903870</td>\n",
       "      <td>866.591919</td>\n",
       "    </tr>\n",
       "  </tbody>\n",
       "</table>\n",
       "</div>"
      ],
      "text/plain": [
       "            IBULHSGFIN.NS  LICHSGFIN.NS  BAJFINANCE.NS\n",
       "Date                                                  \n",
       "2017-01-02     545.694153    479.882751     858.305359\n",
       "2017-01-03     532.507019    480.969116     872.067017\n",
       "2017-01-04     517.631409    467.978546     860.130432\n",
       "2017-01-05     525.591858    473.545929     887.604431\n",
       "2017-01-06     528.647339    474.903870     866.591919"
      ]
     },
     "execution_count": 107,
     "metadata": {},
     "output_type": "execute_result"
    }
   ],
   "source": [
    "df.head()"
   ]
  },
  {
   "cell_type": "code",
   "execution_count": 108,
   "id": "5461c8ae",
   "metadata": {},
   "outputs": [],
   "source": [
    "df_returns=df.pct_change()"
   ]
  },
  {
   "cell_type": "code",
   "execution_count": 109,
   "id": "21a62106",
   "metadata": {},
   "outputs": [
    {
     "data": {
      "text/html": [
       "<div>\n",
       "<style scoped>\n",
       "    .dataframe tbody tr th:only-of-type {\n",
       "        vertical-align: middle;\n",
       "    }\n",
       "\n",
       "    .dataframe tbody tr th {\n",
       "        vertical-align: top;\n",
       "    }\n",
       "\n",
       "    .dataframe thead th {\n",
       "        text-align: right;\n",
       "    }\n",
       "</style>\n",
       "<table border=\"1\" class=\"dataframe\">\n",
       "  <thead>\n",
       "    <tr style=\"text-align: right;\">\n",
       "      <th></th>\n",
       "      <th>IBULHSGFIN.NS</th>\n",
       "      <th>LICHSGFIN.NS</th>\n",
       "      <th>BAJFINANCE.NS</th>\n",
       "    </tr>\n",
       "    <tr>\n",
       "      <th>Date</th>\n",
       "      <th></th>\n",
       "      <th></th>\n",
       "      <th></th>\n",
       "    </tr>\n",
       "  </thead>\n",
       "  <tbody>\n",
       "    <tr>\n",
       "      <th>2017-01-02</th>\n",
       "      <td>NaN</td>\n",
       "      <td>NaN</td>\n",
       "      <td>NaN</td>\n",
       "    </tr>\n",
       "    <tr>\n",
       "      <th>2017-01-03</th>\n",
       "      <td>-0.024166</td>\n",
       "      <td>0.002264</td>\n",
       "      <td>0.016034</td>\n",
       "    </tr>\n",
       "    <tr>\n",
       "      <th>2017-01-04</th>\n",
       "      <td>-0.027935</td>\n",
       "      <td>-0.027009</td>\n",
       "      <td>-0.013688</td>\n",
       "    </tr>\n",
       "    <tr>\n",
       "      <th>2017-01-05</th>\n",
       "      <td>0.015379</td>\n",
       "      <td>0.011897</td>\n",
       "      <td>0.031942</td>\n",
       "    </tr>\n",
       "    <tr>\n",
       "      <th>2017-01-06</th>\n",
       "      <td>0.005813</td>\n",
       "      <td>0.002868</td>\n",
       "      <td>-0.023673</td>\n",
       "    </tr>\n",
       "  </tbody>\n",
       "</table>\n",
       "</div>"
      ],
      "text/plain": [
       "            IBULHSGFIN.NS  LICHSGFIN.NS  BAJFINANCE.NS\n",
       "Date                                                  \n",
       "2017-01-02            NaN           NaN            NaN\n",
       "2017-01-03      -0.024166      0.002264       0.016034\n",
       "2017-01-04      -0.027935     -0.027009      -0.013688\n",
       "2017-01-05       0.015379      0.011897       0.031942\n",
       "2017-01-06       0.005813      0.002868      -0.023673"
      ]
     },
     "execution_count": 109,
     "metadata": {},
     "output_type": "execute_result"
    }
   ],
   "source": [
    "df_returns.head()"
   ]
  },
  {
   "cell_type": "code",
   "execution_count": 110,
   "id": "0f04385d",
   "metadata": {},
   "outputs": [],
   "source": [
    "df_normalization_chart=(df/df.iloc[0])*100"
   ]
  },
  {
   "cell_type": "code",
   "execution_count": 111,
   "id": "2ee9a4b5",
   "metadata": {},
   "outputs": [
    {
     "data": {
      "text/html": [
       "<div>\n",
       "<style scoped>\n",
       "    .dataframe tbody tr th:only-of-type {\n",
       "        vertical-align: middle;\n",
       "    }\n",
       "\n",
       "    .dataframe tbody tr th {\n",
       "        vertical-align: top;\n",
       "    }\n",
       "\n",
       "    .dataframe thead th {\n",
       "        text-align: right;\n",
       "    }\n",
       "</style>\n",
       "<table border=\"1\" class=\"dataframe\">\n",
       "  <thead>\n",
       "    <tr style=\"text-align: right;\">\n",
       "      <th></th>\n",
       "      <th>IBULHSGFIN.NS</th>\n",
       "      <th>LICHSGFIN.NS</th>\n",
       "      <th>BAJFINANCE.NS</th>\n",
       "    </tr>\n",
       "    <tr>\n",
       "      <th>Date</th>\n",
       "      <th></th>\n",
       "      <th></th>\n",
       "      <th></th>\n",
       "    </tr>\n",
       "  </thead>\n",
       "  <tbody>\n",
       "    <tr>\n",
       "      <th>2017-01-02</th>\n",
       "      <td>100.000000</td>\n",
       "      <td>100.000000</td>\n",
       "      <td>100.000000</td>\n",
       "    </tr>\n",
       "    <tr>\n",
       "      <th>2017-01-03</th>\n",
       "      <td>97.583420</td>\n",
       "      <td>100.226381</td>\n",
       "      <td>101.603352</td>\n",
       "    </tr>\n",
       "    <tr>\n",
       "      <th>2017-01-04</th>\n",
       "      <td>94.857423</td>\n",
       "      <td>97.519351</td>\n",
       "      <td>100.212637</td>\n",
       "    </tr>\n",
       "    <tr>\n",
       "      <th>2017-01-05</th>\n",
       "      <td>96.316197</td>\n",
       "      <td>98.679506</td>\n",
       "      <td>103.413595</td>\n",
       "    </tr>\n",
       "    <tr>\n",
       "      <th>2017-01-06</th>\n",
       "      <td>96.876123</td>\n",
       "      <td>98.962480</td>\n",
       "      <td>100.965456</td>\n",
       "    </tr>\n",
       "    <tr>\n",
       "      <th>...</th>\n",
       "      <td>...</td>\n",
       "      <td>...</td>\n",
       "      <td>...</td>\n",
       "    </tr>\n",
       "    <tr>\n",
       "      <th>2022-06-27</th>\n",
       "      <td>19.131596</td>\n",
       "      <td>68.766798</td>\n",
       "      <td>654.864183</td>\n",
       "    </tr>\n",
       "    <tr>\n",
       "      <th>2022-06-28</th>\n",
       "      <td>18.737602</td>\n",
       "      <td>68.693862</td>\n",
       "      <td>647.324401</td>\n",
       "    </tr>\n",
       "    <tr>\n",
       "      <th>2022-06-29</th>\n",
       "      <td>17.912965</td>\n",
       "      <td>67.766556</td>\n",
       "      <td>639.958699</td>\n",
       "    </tr>\n",
       "    <tr>\n",
       "      <th>2022-06-30</th>\n",
       "      <td>17.363206</td>\n",
       "      <td>68.214581</td>\n",
       "      <td>629.204973</td>\n",
       "    </tr>\n",
       "    <tr>\n",
       "      <th>2022-07-01</th>\n",
       "      <td>17.573947</td>\n",
       "      <td>70.485967</td>\n",
       "      <td>654.126162</td>\n",
       "    </tr>\n",
       "  </tbody>\n",
       "</table>\n",
       "<p>1360 rows × 3 columns</p>\n",
       "</div>"
      ],
      "text/plain": [
       "            IBULHSGFIN.NS  LICHSGFIN.NS  BAJFINANCE.NS\n",
       "Date                                                  \n",
       "2017-01-02     100.000000    100.000000     100.000000\n",
       "2017-01-03      97.583420    100.226381     101.603352\n",
       "2017-01-04      94.857423     97.519351     100.212637\n",
       "2017-01-05      96.316197     98.679506     103.413595\n",
       "2017-01-06      96.876123     98.962480     100.965456\n",
       "...                   ...           ...            ...\n",
       "2022-06-27      19.131596     68.766798     654.864183\n",
       "2022-06-28      18.737602     68.693862     647.324401\n",
       "2022-06-29      17.912965     67.766556     639.958699\n",
       "2022-06-30      17.363206     68.214581     629.204973\n",
       "2022-07-01      17.573947     70.485967     654.126162\n",
       "\n",
       "[1360 rows x 3 columns]"
      ]
     },
     "execution_count": 111,
     "metadata": {},
     "output_type": "execute_result"
    }
   ],
   "source": [
    "df_normalization_chart"
   ]
  },
  {
   "cell_type": "code",
   "execution_count": 112,
   "id": "940c4467",
   "metadata": {},
   "outputs": [
    {
     "data": {
      "text/plain": [
       "<AxesSubplot:xlabel='Date'>"
      ]
     },
     "execution_count": 112,
     "metadata": {},
     "output_type": "execute_result"
    },
    {
     "data": {
      "image/png": "[encoded data removed]",
      "text/plain": [
       "<Figure size 864x864 with 1 Axes>"
      ]
     },
     "metadata": {
      "needs_background": "light"
     },
     "output_type": "display_data"
    }
   ],
   "source": [
    "df_normalization_chart.plot(figsize=(12,12))"
   ]
  },
  {
   "cell_type": "code",
   "execution_count": 113,
   "id": "42f9a8a6",
   "metadata": {},
   "outputs": [
    {
     "data": {
      "text/html": [
       "<div>\n",
       "<style scoped>\n",
       "    .dataframe tbody tr th:only-of-type {\n",
       "        vertical-align: middle;\n",
       "    }\n",
       "\n",
       "    .dataframe tbody tr th {\n",
       "        vertical-align: top;\n",
       "    }\n",
       "\n",
       "    .dataframe thead th {\n",
       "        text-align: right;\n",
       "    }\n",
       "</style>\n",
       "<table border=\"1\" class=\"dataframe\">\n",
       "  <thead>\n",
       "    <tr style=\"text-align: right;\">\n",
       "      <th></th>\n",
       "      <th>IBULHSGFIN.NS</th>\n",
       "      <th>LICHSGFIN.NS</th>\n",
       "      <th>BAJFINANCE.NS</th>\n",
       "    </tr>\n",
       "  </thead>\n",
       "  <tbody>\n",
       "    <tr>\n",
       "      <th>count</th>\n",
       "      <td>1360.000000</td>\n",
       "      <td>1360.000000</td>\n",
       "      <td>1360.000000</td>\n",
       "    </tr>\n",
       "    <tr>\n",
       "      <th>mean</th>\n",
       "      <td>514.321178</td>\n",
       "      <td>431.411738</td>\n",
       "      <td>3627.046829</td>\n",
       "    </tr>\n",
       "    <tr>\n",
       "      <th>std</th>\n",
       "      <td>351.795623</td>\n",
       "      <td>101.424740</td>\n",
       "      <td>1942.812535</td>\n",
       "    </tr>\n",
       "    <tr>\n",
       "      <th>min</th>\n",
       "      <td>86.170341</td>\n",
       "      <td>183.544296</td>\n",
       "      <td>858.305359</td>\n",
       "    </tr>\n",
       "    <tr>\n",
       "      <th>25%</th>\n",
       "      <td>205.952549</td>\n",
       "      <td>375.309891</td>\n",
       "      <td>1929.187531</td>\n",
       "    </tr>\n",
       "    <tr>\n",
       "      <th>50%</th>\n",
       "      <td>314.840164</td>\n",
       "      <td>429.979065</td>\n",
       "      <td>3222.418579</td>\n",
       "    </tr>\n",
       "    <tr>\n",
       "      <th>75%</th>\n",
       "      <td>863.749268</td>\n",
       "      <td>493.310402</td>\n",
       "      <td>5159.906616</td>\n",
       "    </tr>\n",
       "    <tr>\n",
       "      <th>max</th>\n",
       "      <td>1182.019653</td>\n",
       "      <td>707.195740</td>\n",
       "      <td>7900.533203</td>\n",
       "    </tr>\n",
       "  </tbody>\n",
       "</table>\n",
       "</div>"
      ],
      "text/plain": [
       "       IBULHSGFIN.NS  LICHSGFIN.NS  BAJFINANCE.NS\n",
       "count    1360.000000   1360.000000    1360.000000\n",
       "mean      514.321178    431.411738    3627.046829\n",
       "std       351.795623    101.424740    1942.812535\n",
       "min        86.170341    183.544296     858.305359\n",
       "25%       205.952549    375.309891    1929.187531\n",
       "50%       314.840164    429.979065    3222.418579\n",
       "75%       863.749268    493.310402    5159.906616\n",
       "max      1182.019653    707.195740    7900.533203"
      ]
     },
     "execution_count": 113,
     "metadata": {},
     "output_type": "execute_result"
    }
   ],
   "source": [
    "df.describe() ## it will provide basic stat of Stock like STD deviation in below Bajaj finance have highest STandard devaition"
   ]
  },
  {
   "cell_type": "code",
   "execution_count": 114,
   "id": "e4d9b2bd",
   "metadata": {},
   "outputs": [
    {
     "data": {
      "text/html": [
       "<div>\n",
       "<style scoped>\n",
       "    .dataframe tbody tr th:only-of-type {\n",
       "        vertical-align: middle;\n",
       "    }\n",
       "\n",
       "    .dataframe tbody tr th {\n",
       "        vertical-align: top;\n",
       "    }\n",
       "\n",
       "    .dataframe thead th {\n",
       "        text-align: right;\n",
       "    }\n",
       "</style>\n",
       "<table border=\"1\" class=\"dataframe\">\n",
       "  <thead>\n",
       "    <tr style=\"text-align: right;\">\n",
       "      <th></th>\n",
       "      <th>IBULHSGFIN.NS</th>\n",
       "      <th>LICHSGFIN.NS</th>\n",
       "      <th>BAJFINANCE.NS</th>\n",
       "    </tr>\n",
       "  </thead>\n",
       "  <tbody>\n",
       "    <tr>\n",
       "      <th>count</th>\n",
       "      <td>1360.000000</td>\n",
       "      <td>1360.000000</td>\n",
       "      <td>1360.000000</td>\n",
       "    </tr>\n",
       "    <tr>\n",
       "      <th>mean</th>\n",
       "      <td>94.250813</td>\n",
       "      <td>89.899405</td>\n",
       "      <td>422.582335</td>\n",
       "    </tr>\n",
       "    <tr>\n",
       "      <th>std</th>\n",
       "      <td>64.467545</td>\n",
       "      <td>21.135317</td>\n",
       "      <td>226.354469</td>\n",
       "    </tr>\n",
       "    <tr>\n",
       "      <th>min</th>\n",
       "      <td>15.790959</td>\n",
       "      <td>38.247738</td>\n",
       "      <td>100.000000</td>\n",
       "    </tr>\n",
       "    <tr>\n",
       "      <th>25%</th>\n",
       "      <td>37.741388</td>\n",
       "      <td>78.208664</td>\n",
       "      <td>224.767038</td>\n",
       "    </tr>\n",
       "    <tr>\n",
       "      <th>50%</th>\n",
       "      <td>57.695352</td>\n",
       "      <td>89.600858</td>\n",
       "      <td>375.439643</td>\n",
       "    </tr>\n",
       "    <tr>\n",
       "      <th>75%</th>\n",
       "      <td>158.284501</td>\n",
       "      <td>102.798111</td>\n",
       "      <td>601.173762</td>\n",
       "    </tr>\n",
       "    <tr>\n",
       "      <th>max</th>\n",
       "      <td>216.608451</td>\n",
       "      <td>147.368443</td>\n",
       "      <td>920.480470</td>\n",
       "    </tr>\n",
       "  </tbody>\n",
       "</table>\n",
       "</div>"
      ],
      "text/plain": [
       "       IBULHSGFIN.NS  LICHSGFIN.NS  BAJFINANCE.NS\n",
       "count    1360.000000   1360.000000    1360.000000\n",
       "mean       94.250813     89.899405     422.582335\n",
       "std        64.467545     21.135317     226.354469\n",
       "min        15.790959     38.247738     100.000000\n",
       "25%        37.741388     78.208664     224.767038\n",
       "50%        57.695352     89.600858     375.439643\n",
       "75%       158.284501    102.798111     601.173762\n",
       "max       216.608451    147.368443     920.480470"
      ]
     },
     "execution_count": 114,
     "metadata": {},
     "output_type": "execute_result"
    }
   ],
   "source": [
    "df_normalization_chart.describe() ## describe on normalize the data"
   ]
  },
  {
   "cell_type": "code",
   "execution_count": 115,
   "id": "ae44944d",
   "metadata": {},
   "outputs": [
    {
     "data": {
      "text/html": [
       "<div>\n",
       "<style scoped>\n",
       "    .dataframe tbody tr th:only-of-type {\n",
       "        vertical-align: middle;\n",
       "    }\n",
       "\n",
       "    .dataframe tbody tr th {\n",
       "        vertical-align: top;\n",
       "    }\n",
       "\n",
       "    .dataframe thead th {\n",
       "        text-align: right;\n",
       "    }\n",
       "</style>\n",
       "<table border=\"1\" class=\"dataframe\">\n",
       "  <thead>\n",
       "    <tr style=\"text-align: right;\">\n",
       "      <th></th>\n",
       "      <th>IBULHSGFIN.NS</th>\n",
       "      <th>LICHSGFIN.NS</th>\n",
       "      <th>BAJFINANCE.NS</th>\n",
       "    </tr>\n",
       "    <tr>\n",
       "      <th>Date</th>\n",
       "      <th></th>\n",
       "      <th></th>\n",
       "      <th></th>\n",
       "    </tr>\n",
       "  </thead>\n",
       "  <tbody>\n",
       "    <tr>\n",
       "      <th>2017-01-02</th>\n",
       "      <td>NaN</td>\n",
       "      <td>NaN</td>\n",
       "      <td>NaN</td>\n",
       "    </tr>\n",
       "    <tr>\n",
       "      <th>2017-01-03</th>\n",
       "      <td>-0.024166</td>\n",
       "      <td>0.002264</td>\n",
       "      <td>0.016034</td>\n",
       "    </tr>\n",
       "    <tr>\n",
       "      <th>2017-01-04</th>\n",
       "      <td>-0.027935</td>\n",
       "      <td>-0.027009</td>\n",
       "      <td>-0.013688</td>\n",
       "    </tr>\n",
       "    <tr>\n",
       "      <th>2017-01-05</th>\n",
       "      <td>0.015379</td>\n",
       "      <td>0.011897</td>\n",
       "      <td>0.031942</td>\n",
       "    </tr>\n",
       "    <tr>\n",
       "      <th>2017-01-06</th>\n",
       "      <td>0.005813</td>\n",
       "      <td>0.002868</td>\n",
       "      <td>-0.023673</td>\n",
       "    </tr>\n",
       "    <tr>\n",
       "      <th>...</th>\n",
       "      <td>...</td>\n",
       "      <td>...</td>\n",
       "      <td>...</td>\n",
       "    </tr>\n",
       "    <tr>\n",
       "      <th>2022-06-27</th>\n",
       "      <td>0.034175</td>\n",
       "      <td>0.028999</td>\n",
       "      <td>0.009566</td>\n",
       "    </tr>\n",
       "    <tr>\n",
       "      <th>2022-06-28</th>\n",
       "      <td>-0.020594</td>\n",
       "      <td>-0.001061</td>\n",
       "      <td>-0.011514</td>\n",
       "    </tr>\n",
       "    <tr>\n",
       "      <th>2022-06-29</th>\n",
       "      <td>-0.044010</td>\n",
       "      <td>-0.013499</td>\n",
       "      <td>-0.011379</td>\n",
       "    </tr>\n",
       "    <tr>\n",
       "      <th>2022-06-30</th>\n",
       "      <td>-0.030691</td>\n",
       "      <td>0.006611</td>\n",
       "      <td>-0.016804</td>\n",
       "    </tr>\n",
       "    <tr>\n",
       "      <th>2022-07-01</th>\n",
       "      <td>0.012137</td>\n",
       "      <td>0.033298</td>\n",
       "      <td>0.039607</td>\n",
       "    </tr>\n",
       "  </tbody>\n",
       "</table>\n",
       "<p>1360 rows × 3 columns</p>\n",
       "</div>"
      ],
      "text/plain": [
       "            IBULHSGFIN.NS  LICHSGFIN.NS  BAJFINANCE.NS\n",
       "Date                                                  \n",
       "2017-01-02            NaN           NaN            NaN\n",
       "2017-01-03      -0.024166      0.002264       0.016034\n",
       "2017-01-04      -0.027935     -0.027009      -0.013688\n",
       "2017-01-05       0.015379      0.011897       0.031942\n",
       "2017-01-06       0.005813      0.002868      -0.023673\n",
       "...                   ...           ...            ...\n",
       "2022-06-27       0.034175      0.028999       0.009566\n",
       "2022-06-28      -0.020594     -0.001061      -0.011514\n",
       "2022-06-29      -0.044010     -0.013499      -0.011379\n",
       "2022-06-30      -0.030691      0.006611      -0.016804\n",
       "2022-07-01       0.012137      0.033298       0.039607\n",
       "\n",
       "[1360 rows x 3 columns]"
      ]
     },
     "execution_count": 115,
     "metadata": {},
     "output_type": "execute_result"
    }
   ],
   "source": [
    "df_returns"
   ]
  },
  {
   "cell_type": "code",
   "execution_count": 116,
   "id": "5b2208d7",
   "metadata": {},
   "outputs": [],
   "source": [
    "avg_return=df_returns.mean() ## these retunr is buy and hold for 5 years"
   ]
  },
  {
   "cell_type": "code",
   "execution_count": 117,
   "id": "79be1198",
   "metadata": {},
   "outputs": [
    {
     "data": {
      "text/plain": [
       "IBULHSGFIN.NS   -10.024419\n",
       "LICHSGFIN.NS      1.067579\n",
       "BAJFINANCE.NS    42.997597\n",
       "dtype: float64"
      ]
     },
     "execution_count": 117,
     "metadata": {},
     "output_type": "execute_result"
    }
   ],
   "source": [
    "avg_return*252*100"
   ]
  },
  {
   "cell_type": "code",
   "execution_count": 118,
   "id": "58f0ca8a",
   "metadata": {},
   "outputs": [
    {
     "data": {
      "text/html": [
       "<div>\n",
       "<style scoped>\n",
       "    .dataframe tbody tr th:only-of-type {\n",
       "        vertical-align: middle;\n",
       "    }\n",
       "\n",
       "    .dataframe tbody tr th {\n",
       "        vertical-align: top;\n",
       "    }\n",
       "\n",
       "    .dataframe thead th {\n",
       "        text-align: right;\n",
       "    }\n",
       "</style>\n",
       "<table border=\"1\" class=\"dataframe\">\n",
       "  <thead>\n",
       "    <tr style=\"text-align: right;\">\n",
       "      <th></th>\n",
       "      <th>IBULHSGFIN.NS</th>\n",
       "      <th>LICHSGFIN.NS</th>\n",
       "      <th>BAJFINANCE.NS</th>\n",
       "    </tr>\n",
       "  </thead>\n",
       "  <tbody>\n",
       "    <tr>\n",
       "      <th>IBULHSGFIN.NS</th>\n",
       "      <td>1.000000</td>\n",
       "      <td>0.436223</td>\n",
       "      <td>0.367496</td>\n",
       "    </tr>\n",
       "    <tr>\n",
       "      <th>LICHSGFIN.NS</th>\n",
       "      <td>0.436223</td>\n",
       "      <td>1.000000</td>\n",
       "      <td>0.540054</td>\n",
       "    </tr>\n",
       "    <tr>\n",
       "      <th>BAJFINANCE.NS</th>\n",
       "      <td>0.367496</td>\n",
       "      <td>0.540054</td>\n",
       "      <td>1.000000</td>\n",
       "    </tr>\n",
       "  </tbody>\n",
       "</table>\n",
       "</div>"
      ],
      "text/plain": [
       "               IBULHSGFIN.NS  LICHSGFIN.NS  BAJFINANCE.NS\n",
       "IBULHSGFIN.NS       1.000000      0.436223       0.367496\n",
       "LICHSGFIN.NS        0.436223      1.000000       0.540054\n",
       "BAJFINANCE.NS       0.367496      0.540054       1.000000"
      ]
     },
     "execution_count": 118,
     "metadata": {},
     "output_type": "execute_result"
    }
   ],
   "source": [
    "df_returns.corr() ## The correlation between the stocks"
   ]
  },
  {
   "cell_type": "code",
   "execution_count": 119,
   "id": "4dea5023",
   "metadata": {},
   "outputs": [
    {
     "data": {
      "text/html": [
       "<div>\n",
       "<style scoped>\n",
       "    .dataframe tbody tr th:only-of-type {\n",
       "        vertical-align: middle;\n",
       "    }\n",
       "\n",
       "    .dataframe tbody tr th {\n",
       "        vertical-align: top;\n",
       "    }\n",
       "\n",
       "    .dataframe thead th {\n",
       "        text-align: right;\n",
       "    }\n",
       "</style>\n",
       "<table border=\"1\" class=\"dataframe\">\n",
       "  <thead>\n",
       "    <tr style=\"text-align: right;\">\n",
       "      <th></th>\n",
       "      <th>IBULHSGFIN.NS</th>\n",
       "      <th>LICHSGFIN.NS</th>\n",
       "      <th>BAJFINANCE.NS</th>\n",
       "    </tr>\n",
       "  </thead>\n",
       "  <tbody>\n",
       "    <tr>\n",
       "      <th>IBULHSGFIN.NS</th>\n",
       "      <td>0.001724</td>\n",
       "      <td>0.000443</td>\n",
       "      <td>0.000386</td>\n",
       "    </tr>\n",
       "    <tr>\n",
       "      <th>LICHSGFIN.NS</th>\n",
       "      <td>0.000443</td>\n",
       "      <td>0.000598</td>\n",
       "      <td>0.000334</td>\n",
       "    </tr>\n",
       "    <tr>\n",
       "      <th>BAJFINANCE.NS</th>\n",
       "      <td>0.000386</td>\n",
       "      <td>0.000334</td>\n",
       "      <td>0.000640</td>\n",
       "    </tr>\n",
       "  </tbody>\n",
       "</table>\n",
       "</div>"
      ],
      "text/plain": [
       "               IBULHSGFIN.NS  LICHSGFIN.NS  BAJFINANCE.NS\n",
       "IBULHSGFIN.NS       0.001724      0.000443       0.000386\n",
       "LICHSGFIN.NS        0.000443      0.000598       0.000334\n",
       "BAJFINANCE.NS       0.000386      0.000334       0.000640"
      ]
     },
     "execution_count": 119,
     "metadata": {},
     "output_type": "execute_result"
    }
   ],
   "source": [
    "df_returns.cov() ## The covarience between the stock"
   ]
  },
  {
   "cell_type": "code",
   "execution_count": 120,
   "id": "a2e42672",
   "metadata": {},
   "outputs": [],
   "source": [
    "weight=np.array([.125,.125,.75])"
   ]
  },
  {
   "cell_type": "code",
   "execution_count": 121,
   "id": "d418b38e",
   "metadata": {},
   "outputs": [],
   "source": [
    "annual_return=avg_return*252"
   ]
  },
  {
   "cell_type": "code",
   "execution_count": 122,
   "id": "9286d560",
   "metadata": {},
   "outputs": [
    {
     "data": {
      "text/plain": [
       "IBULHSGFIN.NS   -0.100244\n",
       "LICHSGFIN.NS     0.010676\n",
       "BAJFINANCE.NS    0.429976\n",
       "dtype: float64"
      ]
     },
     "execution_count": 122,
     "metadata": {},
     "output_type": "execute_result"
    }
   ],
   "source": [
    "annual_return"
   ]
  },
  {
   "cell_type": "code",
   "execution_count": 123,
   "id": "30340943",
   "metadata": {},
   "outputs": [],
   "source": [
    "portfilio_return=np.dot(weight,annual_return)"
   ]
  },
  {
   "cell_type": "code",
   "execution_count": 124,
   "id": "2241c215",
   "metadata": {},
   "outputs": [
    {
     "data": {
      "text/plain": [
       "0.31128592652893333"
      ]
     },
     "execution_count": 124,
     "metadata": {},
     "output_type": "execute_result"
    }
   ],
   "source": [
    "portfilio_return"
   ]
  },
  {
   "cell_type": "code",
   "execution_count": 125,
   "id": "ca387fed",
   "metadata": {},
   "outputs": [
    {
     "data": {
      "text/plain": [
       "IBULHSGFIN.NS    float64\n",
       "LICHSGFIN.NS     float64\n",
       "BAJFINANCE.NS    float64\n",
       "dtype: object"
      ]
     },
     "execution_count": 125,
     "metadata": {},
     "output_type": "execute_result"
    }
   ],
   "source": [
    "df.dtypes"
   ]
  },
  {
   "cell_type": "code",
   "execution_count": 126,
   "id": "f1cfd9ef",
   "metadata": {},
   "outputs": [
    {
     "data": {
      "text/plain": [
       "DatetimeIndex(['2017-01-02', '2017-01-03', '2017-01-04', '2017-01-05',\n",
       "               '2017-01-06', '2017-01-09', '2017-01-10', '2017-01-11',\n",
       "               '2017-01-12', '2017-01-13',\n",
       "               ...\n",
       "               '2022-06-20', '2022-06-21', '2022-06-22', '2022-06-23',\n",
       "               '2022-06-24', '2022-06-27', '2022-06-28', '2022-06-29',\n",
       "               '2022-06-30', '2022-07-01'],\n",
       "              dtype='datetime64[ns]', name='Date', length=1360, freq=None)"
      ]
     },
     "execution_count": 126,
     "metadata": {},
     "output_type": "execute_result"
    }
   ],
   "source": [
    "df.index"
   ]
  },
  {
   "cell_type": "code",
   "execution_count": 127,
   "id": "909846e6",
   "metadata": {},
   "outputs": [
    {
     "data": {
      "text/plain": [
       "IBULHSGFIN.NS    545.694153\n",
       "LICHSGFIN.NS     479.882751\n",
       "BAJFINANCE.NS    858.305359\n",
       "Name: 2017-01-02 00:00:00, dtype: float64"
      ]
     },
     "execution_count": 127,
     "metadata": {},
     "output_type": "execute_result"
    }
   ],
   "source": [
    "df.iloc[0]"
   ]
  },
  {
   "cell_type": "code",
   "execution_count": 128,
   "id": "ac8a5af9",
   "metadata": {},
   "outputs": [
    {
     "data": {
      "text/html": [
       "<div>\n",
       "<style scoped>\n",
       "    .dataframe tbody tr th:only-of-type {\n",
       "        vertical-align: middle;\n",
       "    }\n",
       "\n",
       "    .dataframe tbody tr th {\n",
       "        vertical-align: top;\n",
       "    }\n",
       "\n",
       "    .dataframe thead th {\n",
       "        text-align: right;\n",
       "    }\n",
       "</style>\n",
       "<table border=\"1\" class=\"dataframe\">\n",
       "  <thead>\n",
       "    <tr style=\"text-align: right;\">\n",
       "      <th></th>\n",
       "      <th>IBULHSGFIN.NS</th>\n",
       "      <th>LICHSGFIN.NS</th>\n",
       "      <th>BAJFINANCE.NS</th>\n",
       "    </tr>\n",
       "    <tr>\n",
       "      <th>Date</th>\n",
       "      <th></th>\n",
       "      <th></th>\n",
       "      <th></th>\n",
       "    </tr>\n",
       "  </thead>\n",
       "  <tbody>\n",
       "    <tr>\n",
       "      <th>2017-01-02</th>\n",
       "      <td>545.694153</td>\n",
       "      <td>479.882751</td>\n",
       "      <td>858.305359</td>\n",
       "    </tr>\n",
       "    <tr>\n",
       "      <th>2017-01-03</th>\n",
       "      <td>532.507019</td>\n",
       "      <td>480.969116</td>\n",
       "      <td>872.067017</td>\n",
       "    </tr>\n",
       "    <tr>\n",
       "      <th>2017-01-04</th>\n",
       "      <td>517.631409</td>\n",
       "      <td>467.978546</td>\n",
       "      <td>860.130432</td>\n",
       "    </tr>\n",
       "    <tr>\n",
       "      <th>2017-01-05</th>\n",
       "      <td>525.591858</td>\n",
       "      <td>473.545929</td>\n",
       "      <td>887.604431</td>\n",
       "    </tr>\n",
       "    <tr>\n",
       "      <th>2017-01-06</th>\n",
       "      <td>528.647339</td>\n",
       "      <td>474.903870</td>\n",
       "      <td>866.591919</td>\n",
       "    </tr>\n",
       "    <tr>\n",
       "      <th>...</th>\n",
       "      <td>...</td>\n",
       "      <td>...</td>\n",
       "      <td>...</td>\n",
       "    </tr>\n",
       "    <tr>\n",
       "      <th>2022-06-27</th>\n",
       "      <td>104.400002</td>\n",
       "      <td>330.000000</td>\n",
       "      <td>5620.734375</td>\n",
       "    </tr>\n",
       "    <tr>\n",
       "      <th>2022-06-28</th>\n",
       "      <td>102.250000</td>\n",
       "      <td>329.649994</td>\n",
       "      <td>5556.020020</td>\n",
       "    </tr>\n",
       "    <tr>\n",
       "      <th>2022-06-29</th>\n",
       "      <td>97.750000</td>\n",
       "      <td>325.200012</td>\n",
       "      <td>5492.799805</td>\n",
       "    </tr>\n",
       "    <tr>\n",
       "      <th>2022-06-30</th>\n",
       "      <td>94.750000</td>\n",
       "      <td>327.350006</td>\n",
       "      <td>5400.500000</td>\n",
       "    </tr>\n",
       "    <tr>\n",
       "      <th>2022-07-01</th>\n",
       "      <td>95.900002</td>\n",
       "      <td>338.250000</td>\n",
       "      <td>5614.399902</td>\n",
       "    </tr>\n",
       "  </tbody>\n",
       "</table>\n",
       "<p>1360 rows × 3 columns</p>\n",
       "</div>"
      ],
      "text/plain": [
       "            IBULHSGFIN.NS  LICHSGFIN.NS  BAJFINANCE.NS\n",
       "Date                                                  \n",
       "2017-01-02     545.694153    479.882751     858.305359\n",
       "2017-01-03     532.507019    480.969116     872.067017\n",
       "2017-01-04     517.631409    467.978546     860.130432\n",
       "2017-01-05     525.591858    473.545929     887.604431\n",
       "2017-01-06     528.647339    474.903870     866.591919\n",
       "...                   ...           ...            ...\n",
       "2022-06-27     104.400002    330.000000    5620.734375\n",
       "2022-06-28     102.250000    329.649994    5556.020020\n",
       "2022-06-29      97.750000    325.200012    5492.799805\n",
       "2022-06-30      94.750000    327.350006    5400.500000\n",
       "2022-07-01      95.900002    338.250000    5614.399902\n",
       "\n",
       "[1360 rows x 3 columns]"
      ]
     },
     "execution_count": 128,
     "metadata": {},
     "output_type": "execute_result"
    }
   ],
   "source": [
    "df"
   ]
  },
  {
   "cell_type": "code",
   "execution_count": 132,
   "id": "67934901",
   "metadata": {},
   "outputs": [
    {
     "data": {
      "text/plain": [
       "86.17034149169922"
      ]
     },
     "execution_count": 132,
     "metadata": {},
     "output_type": "execute_result"
    }
   ],
   "source": [
    "df[\"IBULHSGFIN.NS\"].min()"
   ]
  },
  {
   "cell_type": "code",
   "execution_count": 133,
   "id": "c665aca0",
   "metadata": {},
   "outputs": [
    {
     "data": {
      "text/plain": [
       "791"
      ]
     },
     "execution_count": 133,
     "metadata": {},
     "output_type": "execute_result"
    }
   ],
   "source": [
    "df[\"IBULHSGFIN.NS\"].argmin() ## Provide the index Number ##"
   ]
  },
  {
   "cell_type": "code",
   "execution_count": 136,
   "id": "2b148960",
   "metadata": {},
   "outputs": [
    {
     "data": {
      "text/plain": [
       "86.17034149169922"
      ]
     },
     "execution_count": 136,
     "metadata": {},
     "output_type": "execute_result"
    }
   ],
   "source": [
    "df[\"IBULHSGFIN.NS\"].iloc[791] ### Prove the vlaue at locatuion"
   ]
  },
  {
   "cell_type": "code",
   "execution_count": 151,
   "id": "306356b9",
   "metadata": {},
   "outputs": [
    {
     "data": {
      "image/png": "[encoded data removed]",
      "text/plain": [
       "<Figure size 432x288 with 4 Axes>"
      ]
     },
     "metadata": {
      "needs_background": "light"
     },
     "output_type": "display_data"
    }
   ],
   "source": [
    "fig,ax=plt.subplots(2,2)\n",
    "df[\"IBULHSGFIN.NS\"].plot(ax=ax[0,0],title=\"Indiabulls\")\n",
    "df[\"LICHSGFIN.NS\"].plot(ax=ax[0,1],title=\"LIC\")\n",
    "df[\"BAJFINANCE.NS\"].plot(ax=ax[1,0],title=\"BAJFINANCE.NS\")\n",
    "plt.tight_layout()\n"
   ]
  },
  {
   "cell_type": "code",
   "execution_count": 150,
   "id": "f09fac3e",
   "metadata": {},
   "outputs": [],
   "source": [
    "import pandas_datareader as pdr"
   ]
  },
  {
   "cell_type": "code",
   "execution_count": 153,
   "id": "62fbc2fa",
   "metadata": {},
   "outputs": [],
   "source": [
    "from statsmodels.tsa.stattools import adfuller"
   ]
  },
  {
   "cell_type": "code",
   "execution_count": 154,
   "id": "e5396899",
   "metadata": {},
   "outputs": [],
   "source": [
    "result=adfuller(df[\"BAJFINANCE.NS\"])"
   ]
  },
  {
   "cell_type": "code",
   "execution_count": 155,
   "id": "8d16e148",
   "metadata": {},
   "outputs": [
    {
     "data": {
      "text/plain": [
       "(-1.2737739999115445,\n",
       " 0.6410837194994546,\n",
       " 7,\n",
       " 1352,\n",
       " {'1%': -3.4351959756924972,\n",
       "  '5%': -2.8636801283740203,\n",
       "  '10%': -2.5679094065552674},\n",
       " 15938.337899204187)"
      ]
     },
     "execution_count": 155,
     "metadata": {},
     "output_type": "execute_result"
    }
   ],
   "source": [
    "result \n",
    "## if ist number which is T value if that is negative as negative as good data is stationary\n",
    "## if p value smaller than 0.05 the we can reject null hypothesis reject non stationary"
   ]
  },
  {
   "cell_type": "code",
   "execution_count": null,
   "id": "3a6f0775",
   "metadata": {},
   "outputs": [],
   "source": []
  }
 ],
 "metadata": {
  "kernelspec": {
   "display_name": "Python 3 (ipykernel)",
   "language": "python",
   "name": "python3"
  },
  "language_info": {
   "codemirror_mode": {
    "name": "ipython",
    "version": 3
   },
   "file_extension": ".py",
   "mimetype": "text/x-python",
   "name": "python",
   "nbconvert_exporter": "python",
   "pygments_lexer": "ipython3",
   "version": "3.9.12"
  }
 },
 "nbformat": 4,
 "nbformat_minor": 5
}
