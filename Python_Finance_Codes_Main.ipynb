{
 "cells": [
  {
   "cell_type": "code",
   "execution_count": 1,
   "id": "7361240b",
   "metadata": {},
   "outputs": [],
   "source": [
    "import pandas as pd\n",
    "import numpy as np\n",
    "from nsepy import get_history\n",
    "import matplotlib.pyplot as plt\n",
    "from datetime import date\n",
    "import yfinance as yf\n"
   ]
  },
  {
   "cell_type": "code",
   "execution_count": 2,
   "id": "937048da",
   "metadata": {},
   "outputs": [],
   "source": [
    "df=get_history(symbol=\"SBIN\",start=date(2015,10,10),end=date(2022,5,30))"
   ]
  },
  {
   "cell_type": "code",
   "execution_count": 3,
   "id": "a578a98c",
   "metadata": {},
   "outputs": [
    {
     "data": {
      "text/html": [
       "<div>\n",
       "<style scoped>\n",
       "    .dataframe tbody tr th:only-of-type {\n",
       "        vertical-align: middle;\n",
       "    }\n",
       "\n",
       "    .dataframe tbody tr th {\n",
       "        vertical-align: top;\n",
       "    }\n",
       "\n",
       "    .dataframe thead th {\n",
       "        text-align: right;\n",
       "    }\n",
       "</style>\n",
       "<table border=\"1\" class=\"dataframe\">\n",
       "  <thead>\n",
       "    <tr style=\"text-align: right;\">\n",
       "      <th></th>\n",
       "      <th>Symbol</th>\n",
       "      <th>Series</th>\n",
       "      <th>Prev Close</th>\n",
       "      <th>Open</th>\n",
       "      <th>High</th>\n",
       "      <th>Low</th>\n",
       "      <th>Last</th>\n",
       "      <th>Close</th>\n",
       "      <th>VWAP</th>\n",
       "      <th>Volume</th>\n",
       "      <th>Turnover</th>\n",
       "      <th>Trades</th>\n",
       "      <th>Deliverable Volume</th>\n",
       "      <th>%Deliverble</th>\n",
       "    </tr>\n",
       "    <tr>\n",
       "      <th>Date</th>\n",
       "      <th></th>\n",
       "      <th></th>\n",
       "      <th></th>\n",
       "      <th></th>\n",
       "      <th></th>\n",
       "      <th></th>\n",
       "      <th></th>\n",
       "      <th></th>\n",
       "      <th></th>\n",
       "      <th></th>\n",
       "      <th></th>\n",
       "      <th></th>\n",
       "      <th></th>\n",
       "      <th></th>\n",
       "    </tr>\n",
       "  </thead>\n",
       "  <tbody>\n",
       "    <tr>\n",
       "      <th>2015-10-12</th>\n",
       "      <td>SBIN</td>\n",
       "      <td>EQ</td>\n",
       "      <td>243.45</td>\n",
       "      <td>244.10</td>\n",
       "      <td>245.65</td>\n",
       "      <td>241.30</td>\n",
       "      <td>244.15</td>\n",
       "      <td>244.55</td>\n",
       "      <td>244.27</td>\n",
       "      <td>7566962</td>\n",
       "      <td>1.848345e+14</td>\n",
       "      <td>57702</td>\n",
       "      <td>2819307</td>\n",
       "      <td>0.3726</td>\n",
       "    </tr>\n",
       "    <tr>\n",
       "      <th>2015-10-13</th>\n",
       "      <td>SBIN</td>\n",
       "      <td>EQ</td>\n",
       "      <td>244.55</td>\n",
       "      <td>244.00</td>\n",
       "      <td>247.50</td>\n",
       "      <td>242.05</td>\n",
       "      <td>243.90</td>\n",
       "      <td>243.80</td>\n",
       "      <td>244.56</td>\n",
       "      <td>10200698</td>\n",
       "      <td>2.494712e+14</td>\n",
       "      <td>73013</td>\n",
       "      <td>4105359</td>\n",
       "      <td>0.4025</td>\n",
       "    </tr>\n",
       "    <tr>\n",
       "      <th>2015-10-14</th>\n",
       "      <td>SBIN</td>\n",
       "      <td>EQ</td>\n",
       "      <td>243.80</td>\n",
       "      <td>243.70</td>\n",
       "      <td>246.80</td>\n",
       "      <td>243.20</td>\n",
       "      <td>245.00</td>\n",
       "      <td>244.25</td>\n",
       "      <td>244.82</td>\n",
       "      <td>7895820</td>\n",
       "      <td>1.933056e+14</td>\n",
       "      <td>55278</td>\n",
       "      <td>3212893</td>\n",
       "      <td>0.4069</td>\n",
       "    </tr>\n",
       "    <tr>\n",
       "      <th>2015-10-15</th>\n",
       "      <td>SBIN</td>\n",
       "      <td>EQ</td>\n",
       "      <td>244.25</td>\n",
       "      <td>246.00</td>\n",
       "      <td>249.90</td>\n",
       "      <td>245.50</td>\n",
       "      <td>249.05</td>\n",
       "      <td>248.95</td>\n",
       "      <td>248.42</td>\n",
       "      <td>11582401</td>\n",
       "      <td>2.877244e+14</td>\n",
       "      <td>86325</td>\n",
       "      <td>3894772</td>\n",
       "      <td>0.3363</td>\n",
       "    </tr>\n",
       "    <tr>\n",
       "      <th>2015-10-16</th>\n",
       "      <td>SBIN</td>\n",
       "      <td>EQ</td>\n",
       "      <td>248.95</td>\n",
       "      <td>249.85</td>\n",
       "      <td>257.15</td>\n",
       "      <td>248.35</td>\n",
       "      <td>256.80</td>\n",
       "      <td>254.85</td>\n",
       "      <td>251.84</td>\n",
       "      <td>11738832</td>\n",
       "      <td>2.956325e+14</td>\n",
       "      <td>84407</td>\n",
       "      <td>3725598</td>\n",
       "      <td>0.3174</td>\n",
       "    </tr>\n",
       "  </tbody>\n",
       "</table>\n",
       "</div>"
      ],
      "text/plain": [
       "           Symbol Series  Prev Close    Open    High     Low    Last   Close  \\\n",
       "Date                                                                           \n",
       "2015-10-12   SBIN     EQ      243.45  244.10  245.65  241.30  244.15  244.55   \n",
       "2015-10-13   SBIN     EQ      244.55  244.00  247.50  242.05  243.90  243.80   \n",
       "2015-10-14   SBIN     EQ      243.80  243.70  246.80  243.20  245.00  244.25   \n",
       "2015-10-15   SBIN     EQ      244.25  246.00  249.90  245.50  249.05  248.95   \n",
       "2015-10-16   SBIN     EQ      248.95  249.85  257.15  248.35  256.80  254.85   \n",
       "\n",
       "              VWAP    Volume      Turnover  Trades  Deliverable Volume  \\\n",
       "Date                                                                     \n",
       "2015-10-12  244.27   7566962  1.848345e+14   57702             2819307   \n",
       "2015-10-13  244.56  10200698  2.494712e+14   73013             4105359   \n",
       "2015-10-14  244.82   7895820  1.933056e+14   55278             3212893   \n",
       "2015-10-15  248.42  11582401  2.877244e+14   86325             3894772   \n",
       "2015-10-16  251.84  11738832  2.956325e+14   84407             3725598   \n",
       "\n",
       "            %Deliverble  \n",
       "Date                     \n",
       "2015-10-12       0.3726  \n",
       "2015-10-13       0.4025  \n",
       "2015-10-14       0.4069  \n",
       "2015-10-15       0.3363  \n",
       "2015-10-16       0.3174  "
      ]
     },
     "execution_count": 3,
     "metadata": {},
     "output_type": "execute_result"
    }
   ],
   "source": [
    "df.head()"
   ]
  },
  {
   "cell_type": "code",
   "execution_count": 4,
   "id": "139c0cd9",
   "metadata": {},
   "outputs": [],
   "source": [
    "df[\"simple_return\"]=(df[\"Close\"]/df[\"Close\"].shift(1))-1"
   ]
  },
  {
   "cell_type": "code",
   "execution_count": 5,
   "id": "c2bb8914",
   "metadata": {},
   "outputs": [
    {
     "data": {
      "text/html": [
       "<div>\n",
       "<style scoped>\n",
       "    .dataframe tbody tr th:only-of-type {\n",
       "        vertical-align: middle;\n",
       "    }\n",
       "\n",
       "    .dataframe tbody tr th {\n",
       "        vertical-align: top;\n",
       "    }\n",
       "\n",
       "    .dataframe thead th {\n",
       "        text-align: right;\n",
       "    }\n",
       "</style>\n",
       "<table border=\"1\" class=\"dataframe\">\n",
       "  <thead>\n",
       "    <tr style=\"text-align: right;\">\n",
       "      <th></th>\n",
       "      <th>Symbol</th>\n",
       "      <th>Series</th>\n",
       "      <th>Prev Close</th>\n",
       "      <th>Open</th>\n",
       "      <th>High</th>\n",
       "      <th>Low</th>\n",
       "      <th>Last</th>\n",
       "      <th>Close</th>\n",
       "      <th>VWAP</th>\n",
       "      <th>Volume</th>\n",
       "      <th>Turnover</th>\n",
       "      <th>Trades</th>\n",
       "      <th>Deliverable Volume</th>\n",
       "      <th>%Deliverble</th>\n",
       "      <th>simple_return</th>\n",
       "    </tr>\n",
       "    <tr>\n",
       "      <th>Date</th>\n",
       "      <th></th>\n",
       "      <th></th>\n",
       "      <th></th>\n",
       "      <th></th>\n",
       "      <th></th>\n",
       "      <th></th>\n",
       "      <th></th>\n",
       "      <th></th>\n",
       "      <th></th>\n",
       "      <th></th>\n",
       "      <th></th>\n",
       "      <th></th>\n",
       "      <th></th>\n",
       "      <th></th>\n",
       "      <th></th>\n",
       "    </tr>\n",
       "  </thead>\n",
       "  <tbody>\n",
       "    <tr>\n",
       "      <th>2015-10-12</th>\n",
       "      <td>SBIN</td>\n",
       "      <td>EQ</td>\n",
       "      <td>243.45</td>\n",
       "      <td>244.10</td>\n",
       "      <td>245.65</td>\n",
       "      <td>241.30</td>\n",
       "      <td>244.15</td>\n",
       "      <td>244.55</td>\n",
       "      <td>244.27</td>\n",
       "      <td>7566962</td>\n",
       "      <td>1.848345e+14</td>\n",
       "      <td>57702</td>\n",
       "      <td>2819307</td>\n",
       "      <td>0.3726</td>\n",
       "      <td>NaN</td>\n",
       "    </tr>\n",
       "    <tr>\n",
       "      <th>2015-10-13</th>\n",
       "      <td>SBIN</td>\n",
       "      <td>EQ</td>\n",
       "      <td>244.55</td>\n",
       "      <td>244.00</td>\n",
       "      <td>247.50</td>\n",
       "      <td>242.05</td>\n",
       "      <td>243.90</td>\n",
       "      <td>243.80</td>\n",
       "      <td>244.56</td>\n",
       "      <td>10200698</td>\n",
       "      <td>2.494712e+14</td>\n",
       "      <td>73013</td>\n",
       "      <td>4105359</td>\n",
       "      <td>0.4025</td>\n",
       "      <td>-0.003067</td>\n",
       "    </tr>\n",
       "    <tr>\n",
       "      <th>2015-10-14</th>\n",
       "      <td>SBIN</td>\n",
       "      <td>EQ</td>\n",
       "      <td>243.80</td>\n",
       "      <td>243.70</td>\n",
       "      <td>246.80</td>\n",
       "      <td>243.20</td>\n",
       "      <td>245.00</td>\n",
       "      <td>244.25</td>\n",
       "      <td>244.82</td>\n",
       "      <td>7895820</td>\n",
       "      <td>1.933056e+14</td>\n",
       "      <td>55278</td>\n",
       "      <td>3212893</td>\n",
       "      <td>0.4069</td>\n",
       "      <td>0.001846</td>\n",
       "    </tr>\n",
       "    <tr>\n",
       "      <th>2015-10-15</th>\n",
       "      <td>SBIN</td>\n",
       "      <td>EQ</td>\n",
       "      <td>244.25</td>\n",
       "      <td>246.00</td>\n",
       "      <td>249.90</td>\n",
       "      <td>245.50</td>\n",
       "      <td>249.05</td>\n",
       "      <td>248.95</td>\n",
       "      <td>248.42</td>\n",
       "      <td>11582401</td>\n",
       "      <td>2.877244e+14</td>\n",
       "      <td>86325</td>\n",
       "      <td>3894772</td>\n",
       "      <td>0.3363</td>\n",
       "      <td>0.019243</td>\n",
       "    </tr>\n",
       "    <tr>\n",
       "      <th>2015-10-16</th>\n",
       "      <td>SBIN</td>\n",
       "      <td>EQ</td>\n",
       "      <td>248.95</td>\n",
       "      <td>249.85</td>\n",
       "      <td>257.15</td>\n",
       "      <td>248.35</td>\n",
       "      <td>256.80</td>\n",
       "      <td>254.85</td>\n",
       "      <td>251.84</td>\n",
       "      <td>11738832</td>\n",
       "      <td>2.956325e+14</td>\n",
       "      <td>84407</td>\n",
       "      <td>3725598</td>\n",
       "      <td>0.3174</td>\n",
       "      <td>0.023700</td>\n",
       "    </tr>\n",
       "    <tr>\n",
       "      <th>...</th>\n",
       "      <td>...</td>\n",
       "      <td>...</td>\n",
       "      <td>...</td>\n",
       "      <td>...</td>\n",
       "      <td>...</td>\n",
       "      <td>...</td>\n",
       "      <td>...</td>\n",
       "      <td>...</td>\n",
       "      <td>...</td>\n",
       "      <td>...</td>\n",
       "      <td>...</td>\n",
       "      <td>...</td>\n",
       "      <td>...</td>\n",
       "      <td>...</td>\n",
       "      <td>...</td>\n",
       "    </tr>\n",
       "    <tr>\n",
       "      <th>2022-05-24</th>\n",
       "      <td>SBIN</td>\n",
       "      <td>EQ</td>\n",
       "      <td>460.90</td>\n",
       "      <td>462.40</td>\n",
       "      <td>466.80</td>\n",
       "      <td>460.20</td>\n",
       "      <td>463.00</td>\n",
       "      <td>462.05</td>\n",
       "      <td>463.29</td>\n",
       "      <td>17175179</td>\n",
       "      <td>7.957059e+14</td>\n",
       "      <td>139005</td>\n",
       "      <td>8555677</td>\n",
       "      <td>0.4981</td>\n",
       "      <td>0.002495</td>\n",
       "    </tr>\n",
       "    <tr>\n",
       "      <th>2022-05-25</th>\n",
       "      <td>SBIN</td>\n",
       "      <td>EQ</td>\n",
       "      <td>462.05</td>\n",
       "      <td>461.00</td>\n",
       "      <td>464.45</td>\n",
       "      <td>452.05</td>\n",
       "      <td>453.45</td>\n",
       "      <td>454.10</td>\n",
       "      <td>458.77</td>\n",
       "      <td>12728644</td>\n",
       "      <td>5.839499e+14</td>\n",
       "      <td>154093</td>\n",
       "      <td>4570376</td>\n",
       "      <td>0.3591</td>\n",
       "      <td>-0.017206</td>\n",
       "    </tr>\n",
       "    <tr>\n",
       "      <th>2022-05-26</th>\n",
       "      <td>SBIN</td>\n",
       "      <td>EQ</td>\n",
       "      <td>454.10</td>\n",
       "      <td>456.85</td>\n",
       "      <td>470.10</td>\n",
       "      <td>452.50</td>\n",
       "      <td>469.60</td>\n",
       "      <td>468.90</td>\n",
       "      <td>460.09</td>\n",
       "      <td>17055257</td>\n",
       "      <td>7.846912e+14</td>\n",
       "      <td>208123</td>\n",
       "      <td>6310397</td>\n",
       "      <td>0.3700</td>\n",
       "      <td>0.032592</td>\n",
       "    </tr>\n",
       "    <tr>\n",
       "      <th>2022-05-27</th>\n",
       "      <td>SBIN</td>\n",
       "      <td>EQ</td>\n",
       "      <td>468.90</td>\n",
       "      <td>471.40</td>\n",
       "      <td>475.00</td>\n",
       "      <td>467.50</td>\n",
       "      <td>468.00</td>\n",
       "      <td>468.95</td>\n",
       "      <td>470.69</td>\n",
       "      <td>10977001</td>\n",
       "      <td>5.166783e+14</td>\n",
       "      <td>160651</td>\n",
       "      <td>2866709</td>\n",
       "      <td>0.2612</td>\n",
       "      <td>0.000107</td>\n",
       "    </tr>\n",
       "    <tr>\n",
       "      <th>2022-05-30</th>\n",
       "      <td>SBIN</td>\n",
       "      <td>EQ</td>\n",
       "      <td>468.95</td>\n",
       "      <td>473.00</td>\n",
       "      <td>476.90</td>\n",
       "      <td>471.10</td>\n",
       "      <td>474.80</td>\n",
       "      <td>474.60</td>\n",
       "      <td>474.04</td>\n",
       "      <td>9365470</td>\n",
       "      <td>4.439627e+14</td>\n",
       "      <td>151679</td>\n",
       "      <td>3413721</td>\n",
       "      <td>0.3645</td>\n",
       "      <td>0.012048</td>\n",
       "    </tr>\n",
       "  </tbody>\n",
       "</table>\n",
       "<p>1641 rows × 15 columns</p>\n",
       "</div>"
      ],
      "text/plain": [
       "           Symbol Series  Prev Close    Open    High     Low    Last   Close  \\\n",
       "Date                                                                           \n",
       "2015-10-12   SBIN     EQ      243.45  244.10  245.65  241.30  244.15  244.55   \n",
       "2015-10-13   SBIN     EQ      244.55  244.00  247.50  242.05  243.90  243.80   \n",
       "2015-10-14   SBIN     EQ      243.80  243.70  246.80  243.20  245.00  244.25   \n",
       "2015-10-15   SBIN     EQ      244.25  246.00  249.90  245.50  249.05  248.95   \n",
       "2015-10-16   SBIN     EQ      248.95  249.85  257.15  248.35  256.80  254.85   \n",
       "...           ...    ...         ...     ...     ...     ...     ...     ...   \n",
       "2022-05-24   SBIN     EQ      460.90  462.40  466.80  460.20  463.00  462.05   \n",
       "2022-05-25   SBIN     EQ      462.05  461.00  464.45  452.05  453.45  454.10   \n",
       "2022-05-26   SBIN     EQ      454.10  456.85  470.10  452.50  469.60  468.90   \n",
       "2022-05-27   SBIN     EQ      468.90  471.40  475.00  467.50  468.00  468.95   \n",
       "2022-05-30   SBIN     EQ      468.95  473.00  476.90  471.10  474.80  474.60   \n",
       "\n",
       "              VWAP    Volume      Turnover  Trades  Deliverable Volume  \\\n",
       "Date                                                                     \n",
       "2015-10-12  244.27   7566962  1.848345e+14   57702             2819307   \n",
       "2015-10-13  244.56  10200698  2.494712e+14   73013             4105359   \n",
       "2015-10-14  244.82   7895820  1.933056e+14   55278             3212893   \n",
       "2015-10-15  248.42  11582401  2.877244e+14   86325             3894772   \n",
       "2015-10-16  251.84  11738832  2.956325e+14   84407             3725598   \n",
       "...            ...       ...           ...     ...                 ...   \n",
       "2022-05-24  463.29  17175179  7.957059e+14  139005             8555677   \n",
       "2022-05-25  458.77  12728644  5.839499e+14  154093             4570376   \n",
       "2022-05-26  460.09  17055257  7.846912e+14  208123             6310397   \n",
       "2022-05-27  470.69  10977001  5.166783e+14  160651             2866709   \n",
       "2022-05-30  474.04   9365470  4.439627e+14  151679             3413721   \n",
       "\n",
       "            %Deliverble  simple_return  \n",
       "Date                                    \n",
       "2015-10-12       0.3726            NaN  \n",
       "2015-10-13       0.4025      -0.003067  \n",
       "2015-10-14       0.4069       0.001846  \n",
       "2015-10-15       0.3363       0.019243  \n",
       "2015-10-16       0.3174       0.023700  \n",
       "...                 ...            ...  \n",
       "2022-05-24       0.4981       0.002495  \n",
       "2022-05-25       0.3591      -0.017206  \n",
       "2022-05-26       0.3700       0.032592  \n",
       "2022-05-27       0.2612       0.000107  \n",
       "2022-05-30       0.3645       0.012048  \n",
       "\n",
       "[1641 rows x 15 columns]"
      ]
     },
     "execution_count": 5,
     "metadata": {},
     "output_type": "execute_result"
    }
   ],
   "source": [
    "df"
   ]
  },
  {
   "cell_type": "code",
   "execution_count": 6,
   "id": "2d747017",
   "metadata": {},
   "outputs": [
    {
     "data": {
      "text/plain": [
       "<AxesSubplot:xlabel='Date'>"
      ]
     },
     "execution_count": 6,
     "metadata": {},
     "output_type": "execute_result"
    },
    {
     "data": {
      "image/png": "[encoded data removed]",
      "text/plain": [
       "<Figure size 576x360 with 1 Axes>"
      ]
     },
     "metadata": {
      "needs_background": "light"
     },
     "output_type": "display_data"
    }
   ],
   "source": [
    "df[\"simple_return\"].plot(figsize=(8,5))"
   ]
  },
  {
   "cell_type": "code",
   "execution_count": 7,
   "id": "c3b17fb7",
   "metadata": {},
   "outputs": [
    {
     "data": {
      "text/plain": [
       "<AxesSubplot:xlabel='Date'>"
      ]
     },
     "execution_count": 7,
     "metadata": {},
     "output_type": "execute_result"
    },
    {
     "data": {
      "image/png": "[encoded data removed]",
      "text/plain": [
       "<Figure size 576x360 with 1 Axes>"
      ]
     },
     "metadata": {
      "needs_background": "light"
     },
     "output_type": "display_data"
    }
   ],
   "source": [
    "df[\"simple_return\"].cumsum().plot(figsize=(8,5))"
   ]
  },
  {
   "cell_type": "code",
   "execution_count": 8,
   "id": "2efef6ad",
   "metadata": {},
   "outputs": [
    {
     "data": {
      "text/plain": [
       "0.06685270599395544"
      ]
     },
     "execution_count": 8,
     "metadata": {},
     "output_type": "execute_result"
    }
   ],
   "source": [
    "avg_return=df[\"simple_return\"].mean()\n",
    "avg_return*100  ## Daily return"
   ]
  },
  {
   "cell_type": "code",
   "execution_count": 9,
   "id": "6d235124",
   "metadata": {},
   "outputs": [
    {
     "data": {
      "text/plain": [
       "16.713"
      ]
     },
     "execution_count": 9,
     "metadata": {},
     "output_type": "execute_result"
    }
   ],
   "source": [
    "### Annual Returned by SBI since 2015 october and May 2022\n",
    "avg_return_a=round(avg_return*250*100,3)\n",
    "avg_return_a"
   ]
  },
  {
   "cell_type": "code",
   "execution_count": 10,
   "id": "cd3a1b9f",
   "metadata": {},
   "outputs": [],
   "source": [
    "## Calcculate the log return##\n",
    "df[\"log_return\"]=np.log(df[\"Close\"]/df[\"Close\"].shift(1))"
   ]
  },
  {
   "cell_type": "code",
   "execution_count": 11,
   "id": "32c3200f",
   "metadata": {},
   "outputs": [
    {
     "data": {
      "text/plain": [
       "<AxesSubplot:xlabel='Date'>"
      ]
     },
     "execution_count": 11,
     "metadata": {},
     "output_type": "execute_result"
    },
    {
     "data": {
      "image/png": "[encoded data removed]",
      "text/plain": [
       "<Figure size 576x360 with 1 Axes>"
      ]
     },
     "metadata": {
      "needs_background": "light"
     },
     "output_type": "display_data"
    }
   ],
   "source": [
    "df[\"log_return\"].plot(figsize=(8,5))"
   ]
  },
  {
   "cell_type": "code",
   "execution_count": 12,
   "id": "8774b011",
   "metadata": {},
   "outputs": [
    {
     "data": {
      "text/plain": [
       "<AxesSubplot:xlabel='Date'>"
      ]
     },
     "execution_count": 12,
     "metadata": {},
     "output_type": "execute_result"
    },
    {
     "data": {
      "image/png": "[encoded data removed]",
      "text/plain": [
       "<Figure size 576x360 with 1 Axes>"
      ]
     },
     "metadata": {
      "needs_background": "light"
     },
     "output_type": "display_data"
    }
   ],
   "source": [
    "df[\"log_return\"].cumsum().plot(figsize=(8,5))"
   ]
  },
  {
   "cell_type": "code",
   "execution_count": 13,
   "id": "32da1d00",
   "metadata": {},
   "outputs": [
    {
     "data": {
      "text/plain": [
       "10.108"
      ]
     },
     "execution_count": 13,
     "metadata": {},
     "output_type": "execute_result"
    }
   ],
   "source": [
    "log_return=df[\"log_return\"].mean()\n",
    "log_return_a=round(log_return*250*100,3)\n",
    "log_return_a"
   ]
  },
  {
   "cell_type": "code",
   "execution_count": 14,
   "id": "646a525c",
   "metadata": {},
   "outputs": [
    {
     "data": {
      "text/plain": [
       "<AxesSubplot:xlabel='Date'>"
      ]
     },
     "execution_count": 14,
     "metadata": {},
     "output_type": "execute_result"
    },
    {
     "data": {
      "image/png": "[encoded data removed]",
      "text/plain": [
       "<Figure size 1080x576 with 1 Axes>"
      ]
     },
     "metadata": {
      "needs_background": "light"
     },
     "output_type": "display_data"
    }
   ],
   "source": [
    "((df[\"log_return\"]/df[\"log_return\"].iloc[1])*100).cumsum().plot(figsize=(15,8))"
   ]
  },
  {
   "cell_type": "code",
   "execution_count": 15,
   "id": "000e10ae",
   "metadata": {},
   "outputs": [
    {
     "data": {
      "text/plain": [
       "Date\n",
       "2015-10-12         NaN\n",
       "2015-10-13   -0.003072\n",
       "2015-10-14    0.001844\n",
       "2015-10-15    0.019060\n",
       "2015-10-16    0.023423\n",
       "                ...   \n",
       "2022-05-24    0.002492\n",
       "2022-05-25   -0.017356\n",
       "2022-05-26    0.032072\n",
       "2022-05-27    0.000107\n",
       "2022-05-30    0.011976\n",
       "Name: log_return, Length: 1641, dtype: float64"
      ]
     },
     "execution_count": 15,
     "metadata": {},
     "output_type": "execute_result"
    }
   ],
   "source": [
    "df[\"log_return\"]"
   ]
  },
  {
   "cell_type": "code",
   "execution_count": 66,
   "id": "ea9e0c5d",
   "metadata": {},
   "outputs": [],
   "source": [
    "stock_list=[\"SBIN\",\"TCS\",\"HINDUNILVR\",\"TATASTEEL\"]"
   ]
  },
  {
   "cell_type": "code",
   "execution_count": 67,
   "id": "834d071b",
   "metadata": {},
   "outputs": [
    {
     "name": "stdout",
     "output_type": "stream",
     "text": [
      "SBIN\n",
      "TCS\n",
      "HINDUNILVR\n",
      "TATASTEEL\n"
     ]
    }
   ],
   "source": [
    "Portfolio=pd.DataFrame()\n",
    "\n",
    "for item in stock_list:\n",
    "    print(item)\n",
    "    Portfolio[item]=get_history(symbol=item,start=date(2021,6,10),end=date(2022,6,10))[\"Close\"]"
   ]
  },
  {
   "cell_type": "code",
   "execution_count": 68,
   "id": "44489887",
   "metadata": {},
   "outputs": [
    {
     "data": {
      "text/html": [
       "<div>\n",
       "<style scoped>\n",
       "    .dataframe tbody tr th:only-of-type {\n",
       "        vertical-align: middle;\n",
       "    }\n",
       "\n",
       "    .dataframe tbody tr th {\n",
       "        vertical-align: top;\n",
       "    }\n",
       "\n",
       "    .dataframe thead th {\n",
       "        text-align: right;\n",
       "    }\n",
       "</style>\n",
       "<table border=\"1\" class=\"dataframe\">\n",
       "  <thead>\n",
       "    <tr style=\"text-align: right;\">\n",
       "      <th></th>\n",
       "      <th>SBIN</th>\n",
       "      <th>TCS</th>\n",
       "      <th>HINDUNILVR</th>\n",
       "      <th>TATASTEEL</th>\n",
       "    </tr>\n",
       "    <tr>\n",
       "      <th>Date</th>\n",
       "      <th></th>\n",
       "      <th></th>\n",
       "      <th></th>\n",
       "      <th></th>\n",
       "    </tr>\n",
       "  </thead>\n",
       "  <tbody>\n",
       "    <tr>\n",
       "      <th>2021-06-10</th>\n",
       "      <td>432.25</td>\n",
       "      <td>3216.80</td>\n",
       "      <td>2378.80</td>\n",
       "      <td>1114.45</td>\n",
       "    </tr>\n",
       "    <tr>\n",
       "      <th>2021-06-11</th>\n",
       "      <td>429.60</td>\n",
       "      <td>3273.80</td>\n",
       "      <td>2366.50</td>\n",
       "      <td>1158.35</td>\n",
       "    </tr>\n",
       "    <tr>\n",
       "      <th>2021-06-14</th>\n",
       "      <td>430.35</td>\n",
       "      <td>3276.35</td>\n",
       "      <td>2364.60</td>\n",
       "      <td>1164.80</td>\n",
       "    </tr>\n",
       "    <tr>\n",
       "      <th>2021-06-15</th>\n",
       "      <td>429.50</td>\n",
       "      <td>3262.75</td>\n",
       "      <td>2391.95</td>\n",
       "      <td>1174.30</td>\n",
       "    </tr>\n",
       "    <tr>\n",
       "      <th>2021-06-16</th>\n",
       "      <td>425.95</td>\n",
       "      <td>3274.35</td>\n",
       "      <td>2407.90</td>\n",
       "      <td>1142.15</td>\n",
       "    </tr>\n",
       "    <tr>\n",
       "      <th>...</th>\n",
       "      <td>...</td>\n",
       "      <td>...</td>\n",
       "      <td>...</td>\n",
       "      <td>...</td>\n",
       "    </tr>\n",
       "    <tr>\n",
       "      <th>2022-06-06</th>\n",
       "      <td>463.70</td>\n",
       "      <td>3430.95</td>\n",
       "      <td>2280.50</td>\n",
       "      <td>1078.10</td>\n",
       "    </tr>\n",
       "    <tr>\n",
       "      <th>2022-06-07</th>\n",
       "      <td>463.40</td>\n",
       "      <td>3362.70</td>\n",
       "      <td>2211.60</td>\n",
       "      <td>1068.50</td>\n",
       "    </tr>\n",
       "    <tr>\n",
       "      <th>2022-06-08</th>\n",
       "      <td>471.30</td>\n",
       "      <td>3404.15</td>\n",
       "      <td>2197.05</td>\n",
       "      <td>1086.75</td>\n",
       "    </tr>\n",
       "    <tr>\n",
       "      <th>2022-06-09</th>\n",
       "      <td>466.95</td>\n",
       "      <td>3427.10</td>\n",
       "      <td>2197.70</td>\n",
       "      <td>1044.85</td>\n",
       "    </tr>\n",
       "    <tr>\n",
       "      <th>2022-06-10</th>\n",
       "      <td>461.85</td>\n",
       "      <td>3359.90</td>\n",
       "      <td>2199.90</td>\n",
       "      <td>1023.70</td>\n",
       "    </tr>\n",
       "  </tbody>\n",
       "</table>\n",
       "<p>250 rows × 4 columns</p>\n",
       "</div>"
      ],
      "text/plain": [
       "              SBIN      TCS  HINDUNILVR  TATASTEEL\n",
       "Date                                              \n",
       "2021-06-10  432.25  3216.80     2378.80    1114.45\n",
       "2021-06-11  429.60  3273.80     2366.50    1158.35\n",
       "2021-06-14  430.35  3276.35     2364.60    1164.80\n",
       "2021-06-15  429.50  3262.75     2391.95    1174.30\n",
       "2021-06-16  425.95  3274.35     2407.90    1142.15\n",
       "...            ...      ...         ...        ...\n",
       "2022-06-06  463.70  3430.95     2280.50    1078.10\n",
       "2022-06-07  463.40  3362.70     2211.60    1068.50\n",
       "2022-06-08  471.30  3404.15     2197.05    1086.75\n",
       "2022-06-09  466.95  3427.10     2197.70    1044.85\n",
       "2022-06-10  461.85  3359.90     2199.90    1023.70\n",
       "\n",
       "[250 rows x 4 columns]"
      ]
     },
     "execution_count": 68,
     "metadata": {},
     "output_type": "execute_result"
    }
   ],
   "source": [
    "Portfolio"
   ]
  },
  {
   "cell_type": "code",
   "execution_count": 69,
   "id": "dad8c478",
   "metadata": {},
   "outputs": [
    {
     "name": "stdout",
     "output_type": "stream",
     "text": [
      "<class 'pandas.core.frame.DataFrame'>\n",
      "Index: 250 entries, 2021-06-10 to 2022-06-10\n",
      "Data columns (total 4 columns):\n",
      " #   Column      Non-Null Count  Dtype  \n",
      "---  ------      --------------  -----  \n",
      " 0   SBIN        250 non-null    float64\n",
      " 1   TCS         250 non-null    float64\n",
      " 2   HINDUNILVR  250 non-null    float64\n",
      " 3   TATASTEEL   250 non-null    float64\n",
      "dtypes: float64(4)\n",
      "memory usage: 9.8+ KB\n"
     ]
    }
   ],
   "source": [
    "Portfolio.info()"
   ]
  },
  {
   "cell_type": "code",
   "execution_count": 70,
   "id": "4ad5c7d2",
   "metadata": {},
   "outputs": [
    {
     "data": {
      "text/html": [
       "<div>\n",
       "<style scoped>\n",
       "    .dataframe tbody tr th:only-of-type {\n",
       "        vertical-align: middle;\n",
       "    }\n",
       "\n",
       "    .dataframe tbody tr th {\n",
       "        vertical-align: top;\n",
       "    }\n",
       "\n",
       "    .dataframe thead th {\n",
       "        text-align: right;\n",
       "    }\n",
       "</style>\n",
       "<table border=\"1\" class=\"dataframe\">\n",
       "  <thead>\n",
       "    <tr style=\"text-align: right;\">\n",
       "      <th></th>\n",
       "      <th>SBIN</th>\n",
       "      <th>TCS</th>\n",
       "      <th>HINDUNILVR</th>\n",
       "      <th>TATASTEEL</th>\n",
       "    </tr>\n",
       "  </thead>\n",
       "  <tbody>\n",
       "    <tr>\n",
       "      <th>count</th>\n",
       "      <td>250.000000</td>\n",
       "      <td>250.00000</td>\n",
       "      <td>250.000000</td>\n",
       "      <td>250.000000</td>\n",
       "    </tr>\n",
       "    <tr>\n",
       "      <th>mean</th>\n",
       "      <td>471.438000</td>\n",
       "      <td>3568.40100</td>\n",
       "      <td>2365.581200</td>\n",
       "      <td>1243.820600</td>\n",
       "    </tr>\n",
       "    <tr>\n",
       "      <th>std</th>\n",
       "      <td>35.060321</td>\n",
       "      <td>209.42413</td>\n",
       "      <td>197.907972</td>\n",
       "      <td>115.310671</td>\n",
       "    </tr>\n",
       "    <tr>\n",
       "      <th>min</th>\n",
       "      <td>406.700000</td>\n",
       "      <td>3167.45000</td>\n",
       "      <td>1943.950000</td>\n",
       "      <td>999.100000</td>\n",
       "    </tr>\n",
       "    <tr>\n",
       "      <th>25%</th>\n",
       "      <td>437.787500</td>\n",
       "      <td>3412.72500</td>\n",
       "      <td>2260.750000</td>\n",
       "      <td>1157.225000</td>\n",
       "    </tr>\n",
       "    <tr>\n",
       "      <th>50%</th>\n",
       "      <td>470.100000</td>\n",
       "      <td>3579.70000</td>\n",
       "      <td>2351.150000</td>\n",
       "      <td>1246.075000</td>\n",
       "    </tr>\n",
       "    <tr>\n",
       "      <th>75%</th>\n",
       "      <td>501.162500</td>\n",
       "      <td>3735.62500</td>\n",
       "      <td>2445.350000</td>\n",
       "      <td>1325.462500</td>\n",
       "    </tr>\n",
       "    <tr>\n",
       "      <th>max</th>\n",
       "      <td>540.550000</td>\n",
       "      <td>4019.15000</td>\n",
       "      <td>2812.450000</td>\n",
       "      <td>1519.400000</td>\n",
       "    </tr>\n",
       "  </tbody>\n",
       "</table>\n",
       "</div>"
      ],
      "text/plain": [
       "             SBIN         TCS   HINDUNILVR    TATASTEEL\n",
       "count  250.000000   250.00000   250.000000   250.000000\n",
       "mean   471.438000  3568.40100  2365.581200  1243.820600\n",
       "std     35.060321   209.42413   197.907972   115.310671\n",
       "min    406.700000  3167.45000  1943.950000   999.100000\n",
       "25%    437.787500  3412.72500  2260.750000  1157.225000\n",
       "50%    470.100000  3579.70000  2351.150000  1246.075000\n",
       "75%    501.162500  3735.62500  2445.350000  1325.462500\n",
       "max    540.550000  4019.15000  2812.450000  1519.400000"
      ]
     },
     "execution_count": 70,
     "metadata": {},
     "output_type": "execute_result"
    }
   ],
   "source": [
    "Portfolio.describe()"
   ]
  },
  {
   "cell_type": "code",
   "execution_count": 71,
   "id": "0f6f8688",
   "metadata": {},
   "outputs": [],
   "source": [
    "Portfolio_normalization=(Portfolio/Portfolio.iloc[0])*100"
   ]
  },
  {
   "cell_type": "code",
   "execution_count": 74,
   "id": "e060f517",
   "metadata": {},
   "outputs": [
    {
     "data": {
      "text/html": [
       "<div>\n",
       "<style scoped>\n",
       "    .dataframe tbody tr th:only-of-type {\n",
       "        vertical-align: middle;\n",
       "    }\n",
       "\n",
       "    .dataframe tbody tr th {\n",
       "        vertical-align: top;\n",
       "    }\n",
       "\n",
       "    .dataframe thead th {\n",
       "        text-align: right;\n",
       "    }\n",
       "</style>\n",
       "<table border=\"1\" class=\"dataframe\">\n",
       "  <thead>\n",
       "    <tr style=\"text-align: right;\">\n",
       "      <th></th>\n",
       "      <th>SBIN</th>\n",
       "      <th>TCS</th>\n",
       "      <th>HINDUNILVR</th>\n",
       "      <th>TATASTEEL</th>\n",
       "    </tr>\n",
       "    <tr>\n",
       "      <th>Date</th>\n",
       "      <th></th>\n",
       "      <th></th>\n",
       "      <th></th>\n",
       "      <th></th>\n",
       "    </tr>\n",
       "  </thead>\n",
       "  <tbody>\n",
       "    <tr>\n",
       "      <th>2021-06-10</th>\n",
       "      <td>100.000000</td>\n",
       "      <td>100.000000</td>\n",
       "      <td>100.000000</td>\n",
       "      <td>100.000000</td>\n",
       "    </tr>\n",
       "    <tr>\n",
       "      <th>2021-06-11</th>\n",
       "      <td>99.386929</td>\n",
       "      <td>101.771947</td>\n",
       "      <td>99.482933</td>\n",
       "      <td>103.939163</td>\n",
       "    </tr>\n",
       "    <tr>\n",
       "      <th>2021-06-14</th>\n",
       "      <td>99.560440</td>\n",
       "      <td>101.851219</td>\n",
       "      <td>99.403060</td>\n",
       "      <td>104.517924</td>\n",
       "    </tr>\n",
       "    <tr>\n",
       "      <th>2021-06-15</th>\n",
       "      <td>99.363794</td>\n",
       "      <td>101.428438</td>\n",
       "      <td>100.552800</td>\n",
       "      <td>105.370362</td>\n",
       "    </tr>\n",
       "    <tr>\n",
       "      <th>2021-06-16</th>\n",
       "      <td>98.542510</td>\n",
       "      <td>101.789045</td>\n",
       "      <td>101.223306</td>\n",
       "      <td>102.485531</td>\n",
       "    </tr>\n",
       "    <tr>\n",
       "      <th>...</th>\n",
       "      <td>...</td>\n",
       "      <td>...</td>\n",
       "      <td>...</td>\n",
       "      <td>...</td>\n",
       "    </tr>\n",
       "    <tr>\n",
       "      <th>2022-06-06</th>\n",
       "      <td>107.275882</td>\n",
       "      <td>106.657237</td>\n",
       "      <td>95.867664</td>\n",
       "      <td>96.738301</td>\n",
       "    </tr>\n",
       "    <tr>\n",
       "      <th>2022-06-07</th>\n",
       "      <td>107.206478</td>\n",
       "      <td>104.535563</td>\n",
       "      <td>92.971246</td>\n",
       "      <td>95.876890</td>\n",
       "    </tr>\n",
       "    <tr>\n",
       "      <th>2022-06-08</th>\n",
       "      <td>109.034124</td>\n",
       "      <td>105.824111</td>\n",
       "      <td>92.359593</td>\n",
       "      <td>97.514469</td>\n",
       "    </tr>\n",
       "    <tr>\n",
       "      <th>2022-06-09</th>\n",
       "      <td>108.027762</td>\n",
       "      <td>106.537553</td>\n",
       "      <td>92.386918</td>\n",
       "      <td>93.754767</td>\n",
       "    </tr>\n",
       "    <tr>\n",
       "      <th>2022-06-10</th>\n",
       "      <td>106.847889</td>\n",
       "      <td>104.448520</td>\n",
       "      <td>92.479401</td>\n",
       "      <td>91.856970</td>\n",
       "    </tr>\n",
       "  </tbody>\n",
       "</table>\n",
       "<p>250 rows × 4 columns</p>\n",
       "</div>"
      ],
      "text/plain": [
       "                  SBIN         TCS  HINDUNILVR   TATASTEEL\n",
       "Date                                                      \n",
       "2021-06-10  100.000000  100.000000  100.000000  100.000000\n",
       "2021-06-11   99.386929  101.771947   99.482933  103.939163\n",
       "2021-06-14   99.560440  101.851219   99.403060  104.517924\n",
       "2021-06-15   99.363794  101.428438  100.552800  105.370362\n",
       "2021-06-16   98.542510  101.789045  101.223306  102.485531\n",
       "...                ...         ...         ...         ...\n",
       "2022-06-06  107.275882  106.657237   95.867664   96.738301\n",
       "2022-06-07  107.206478  104.535563   92.971246   95.876890\n",
       "2022-06-08  109.034124  105.824111   92.359593   97.514469\n",
       "2022-06-09  108.027762  106.537553   92.386918   93.754767\n",
       "2022-06-10  106.847889  104.448520   92.479401   91.856970\n",
       "\n",
       "[250 rows x 4 columns]"
      ]
     },
     "execution_count": 74,
     "metadata": {},
     "output_type": "execute_result"
    }
   ],
   "source": [
    "Portfolio_normalization"
   ]
  },
  {
   "cell_type": "code",
   "execution_count": 75,
   "id": "6a8cf658",
   "metadata": {},
   "outputs": [
    {
     "data": {
      "text/html": [
       "<div>\n",
       "<style scoped>\n",
       "    .dataframe tbody tr th:only-of-type {\n",
       "        vertical-align: middle;\n",
       "    }\n",
       "\n",
       "    .dataframe tbody tr th {\n",
       "        vertical-align: top;\n",
       "    }\n",
       "\n",
       "    .dataframe thead th {\n",
       "        text-align: right;\n",
       "    }\n",
       "</style>\n",
       "<table border=\"1\" class=\"dataframe\">\n",
       "  <thead>\n",
       "    <tr style=\"text-align: right;\">\n",
       "      <th></th>\n",
       "      <th>SBIN</th>\n",
       "      <th>TCS</th>\n",
       "      <th>HINDUNILVR</th>\n",
       "      <th>TATASTEEL</th>\n",
       "    </tr>\n",
       "  </thead>\n",
       "  <tbody>\n",
       "    <tr>\n",
       "      <th>count</th>\n",
       "      <td>250.000000</td>\n",
       "      <td>250.000000</td>\n",
       "      <td>250.000000</td>\n",
       "      <td>250.000000</td>\n",
       "    </tr>\n",
       "    <tr>\n",
       "      <th>mean</th>\n",
       "      <td>109.066050</td>\n",
       "      <td>110.930148</td>\n",
       "      <td>99.444308</td>\n",
       "      <td>111.608471</td>\n",
       "    </tr>\n",
       "    <tr>\n",
       "      <th>std</th>\n",
       "      <td>8.111121</td>\n",
       "      <td>6.510325</td>\n",
       "      <td>8.319656</td>\n",
       "      <td>10.346868</td>\n",
       "    </tr>\n",
       "    <tr>\n",
       "      <th>min</th>\n",
       "      <td>94.089069</td>\n",
       "      <td>98.465867</td>\n",
       "      <td>81.719775</td>\n",
       "      <td>89.649603</td>\n",
       "    </tr>\n",
       "    <tr>\n",
       "      <th>25%</th>\n",
       "      <td>101.281087</td>\n",
       "      <td>106.090680</td>\n",
       "      <td>95.037414</td>\n",
       "      <td>103.838216</td>\n",
       "    </tr>\n",
       "    <tr>\n",
       "      <th>50%</th>\n",
       "      <td>108.756507</td>\n",
       "      <td>111.281398</td>\n",
       "      <td>98.837649</td>\n",
       "      <td>111.810759</td>\n",
       "    </tr>\n",
       "    <tr>\n",
       "      <th>75%</th>\n",
       "      <td>115.942741</td>\n",
       "      <td>116.128606</td>\n",
       "      <td>102.797629</td>\n",
       "      <td>118.934228</td>\n",
       "    </tr>\n",
       "    <tr>\n",
       "      <th>max</th>\n",
       "      <td>125.054945</td>\n",
       "      <td>124.942489</td>\n",
       "      <td>118.229780</td>\n",
       "      <td>136.336309</td>\n",
       "    </tr>\n",
       "  </tbody>\n",
       "</table>\n",
       "</div>"
      ],
      "text/plain": [
       "             SBIN         TCS  HINDUNILVR   TATASTEEL\n",
       "count  250.000000  250.000000  250.000000  250.000000\n",
       "mean   109.066050  110.930148   99.444308  111.608471\n",
       "std      8.111121    6.510325    8.319656   10.346868\n",
       "min     94.089069   98.465867   81.719775   89.649603\n",
       "25%    101.281087  106.090680   95.037414  103.838216\n",
       "50%    108.756507  111.281398   98.837649  111.810759\n",
       "75%    115.942741  116.128606  102.797629  118.934228\n",
       "max    125.054945  124.942489  118.229780  136.336309"
      ]
     },
     "execution_count": 75,
     "metadata": {},
     "output_type": "execute_result"
    }
   ],
   "source": [
    "Portfolio_normalization.describe()"
   ]
  },
  {
   "cell_type": "code",
   "execution_count": 79,
   "id": "d62a62bc",
   "metadata": {},
   "outputs": [
    {
     "data": {
      "text/plain": [
       "SBIN          100.0\n",
       "TCS           100.0\n",
       "HINDUNILVR    100.0\n",
       "TATASTEEL     100.0\n",
       "Name: 2021-06-10, dtype: float64"
      ]
     },
     "execution_count": 79,
     "metadata": {},
     "output_type": "execute_result"
    }
   ],
   "source": [
    "Portfolio_normalization.iloc[0]"
   ]
  },
  {
   "cell_type": "code",
   "execution_count": 78,
   "id": "9261a746",
   "metadata": {},
   "outputs": [
    {
     "data": {
      "text/plain": [
       "<AxesSubplot:xlabel='Date'>"
      ]
     },
     "execution_count": 78,
     "metadata": {},
     "output_type": "execute_result"
    },
    {
     "data": {
      "image/png": "[encoded data removed]",
      "text/plain": [
       "<Figure size 720x576 with 1 Axes>"
      ]
     },
     "metadata": {
      "needs_background": "light"
     },
     "output_type": "display_data"
    }
   ],
   "source": [
    "Portfolio_normalization.plot(figsize=(10,8))"
   ]
  },
  {
   "cell_type": "code",
   "execution_count": 82,
   "id": "9be13fae",
   "metadata": {},
   "outputs": [],
   "source": [
    "return_stocks=(Portfolio/Portfolio.shift(1))-1"
   ]
  },
  {
   "cell_type": "code",
   "execution_count": 83,
   "id": "a51da011",
   "metadata": {},
   "outputs": [
    {
     "data": {
      "text/html": [
       "<div>\n",
       "<style scoped>\n",
       "    .dataframe tbody tr th:only-of-type {\n",
       "        vertical-align: middle;\n",
       "    }\n",
       "\n",
       "    .dataframe tbody tr th {\n",
       "        vertical-align: top;\n",
       "    }\n",
       "\n",
       "    .dataframe thead th {\n",
       "        text-align: right;\n",
       "    }\n",
       "</style>\n",
       "<table border=\"1\" class=\"dataframe\">\n",
       "  <thead>\n",
       "    <tr style=\"text-align: right;\">\n",
       "      <th></th>\n",
       "      <th>SBIN</th>\n",
       "      <th>TCS</th>\n",
       "      <th>HINDUNILVR</th>\n",
       "      <th>TATASTEEL</th>\n",
       "    </tr>\n",
       "    <tr>\n",
       "      <th>Date</th>\n",
       "      <th></th>\n",
       "      <th></th>\n",
       "      <th></th>\n",
       "      <th></th>\n",
       "    </tr>\n",
       "  </thead>\n",
       "  <tbody>\n",
       "    <tr>\n",
       "      <th>2021-06-10</th>\n",
       "      <td>NaN</td>\n",
       "      <td>NaN</td>\n",
       "      <td>NaN</td>\n",
       "      <td>NaN</td>\n",
       "    </tr>\n",
       "    <tr>\n",
       "      <th>2021-06-11</th>\n",
       "      <td>-0.006131</td>\n",
       "      <td>0.017719</td>\n",
       "      <td>-0.005171</td>\n",
       "      <td>0.039392</td>\n",
       "    </tr>\n",
       "    <tr>\n",
       "      <th>2021-06-14</th>\n",
       "      <td>0.001746</td>\n",
       "      <td>0.000779</td>\n",
       "      <td>-0.000803</td>\n",
       "      <td>0.005568</td>\n",
       "    </tr>\n",
       "    <tr>\n",
       "      <th>2021-06-15</th>\n",
       "      <td>-0.001975</td>\n",
       "      <td>-0.004151</td>\n",
       "      <td>0.011566</td>\n",
       "      <td>0.008156</td>\n",
       "    </tr>\n",
       "    <tr>\n",
       "      <th>2021-06-16</th>\n",
       "      <td>-0.008265</td>\n",
       "      <td>0.003555</td>\n",
       "      <td>0.006668</td>\n",
       "      <td>-0.027378</td>\n",
       "    </tr>\n",
       "    <tr>\n",
       "      <th>...</th>\n",
       "      <td>...</td>\n",
       "      <td>...</td>\n",
       "      <td>...</td>\n",
       "      <td>...</td>\n",
       "    </tr>\n",
       "    <tr>\n",
       "      <th>2022-06-06</th>\n",
       "      <td>-0.001722</td>\n",
       "      <td>-0.002674</td>\n",
       "      <td>-0.004996</td>\n",
       "      <td>0.010119</td>\n",
       "    </tr>\n",
       "    <tr>\n",
       "      <th>2022-06-07</th>\n",
       "      <td>-0.000647</td>\n",
       "      <td>-0.019892</td>\n",
       "      <td>-0.030213</td>\n",
       "      <td>-0.008905</td>\n",
       "    </tr>\n",
       "    <tr>\n",
       "      <th>2022-06-08</th>\n",
       "      <td>0.017048</td>\n",
       "      <td>0.012326</td>\n",
       "      <td>-0.006579</td>\n",
       "      <td>0.017080</td>\n",
       "    </tr>\n",
       "    <tr>\n",
       "      <th>2022-06-09</th>\n",
       "      <td>-0.009230</td>\n",
       "      <td>0.006742</td>\n",
       "      <td>0.000296</td>\n",
       "      <td>-0.038555</td>\n",
       "    </tr>\n",
       "    <tr>\n",
       "      <th>2022-06-10</th>\n",
       "      <td>-0.010922</td>\n",
       "      <td>-0.019608</td>\n",
       "      <td>0.001001</td>\n",
       "      <td>-0.020242</td>\n",
       "    </tr>\n",
       "  </tbody>\n",
       "</table>\n",
       "<p>250 rows × 4 columns</p>\n",
       "</div>"
      ],
      "text/plain": [
       "                SBIN       TCS  HINDUNILVR  TATASTEEL\n",
       "Date                                                 \n",
       "2021-06-10       NaN       NaN         NaN        NaN\n",
       "2021-06-11 -0.006131  0.017719   -0.005171   0.039392\n",
       "2021-06-14  0.001746  0.000779   -0.000803   0.005568\n",
       "2021-06-15 -0.001975 -0.004151    0.011566   0.008156\n",
       "2021-06-16 -0.008265  0.003555    0.006668  -0.027378\n",
       "...              ...       ...         ...        ...\n",
       "2022-06-06 -0.001722 -0.002674   -0.004996   0.010119\n",
       "2022-06-07 -0.000647 -0.019892   -0.030213  -0.008905\n",
       "2022-06-08  0.017048  0.012326   -0.006579   0.017080\n",
       "2022-06-09 -0.009230  0.006742    0.000296  -0.038555\n",
       "2022-06-10 -0.010922 -0.019608    0.001001  -0.020242\n",
       "\n",
       "[250 rows x 4 columns]"
      ]
     },
     "execution_count": 83,
     "metadata": {},
     "output_type": "execute_result"
    }
   ],
   "source": [
    "return_stocks"
   ]
  },
  {
   "cell_type": "code",
   "execution_count": 84,
   "id": "06d96d91",
   "metadata": {},
   "outputs": [],
   "source": [
    "anual_return=return_stocks.mean()*250"
   ]
  },
  {
   "cell_type": "code",
   "execution_count": 85,
   "id": "fdde34b8",
   "metadata": {},
   "outputs": [
    {
     "data": {
      "text/plain": [
       "SBIN          0.104773\n",
       "TCS           0.068259\n",
       "HINDUNILVR   -0.053064\n",
       "TATASTEEL     0.002287\n",
       "dtype: float64"
      ]
     },
     "execution_count": 85,
     "metadata": {},
     "output_type": "execute_result"
    }
   ],
   "source": [
    "anual_return"
   ]
  },
  {
   "cell_type": "code",
   "execution_count": 86,
   "id": "ee62afc3",
   "metadata": {},
   "outputs": [],
   "source": [
    "weight=np.array([.25,.25,.25,.25])"
   ]
  },
  {
   "cell_type": "code",
   "execution_count": 88,
   "id": "3bc1f26b",
   "metadata": {},
   "outputs": [],
   "source": [
    "portfolio_return=round(np.dot(anual_return,weight)*100,2)"
   ]
  },
  {
   "cell_type": "code",
   "execution_count": 89,
   "id": "6db8a0e3",
   "metadata": {},
   "outputs": [
    {
     "data": {
      "text/plain": [
       "3.06"
      ]
     },
     "execution_count": 89,
     "metadata": {},
     "output_type": "execute_result"
    }
   ],
   "source": [
    "portfolio_return"
   ]
  },
  {
   "cell_type": "code",
   "execution_count": 90,
   "id": "801ea98d",
   "metadata": {},
   "outputs": [],
   "source": [
    "weight2=np.array([.25,.5,.125,.125])"
   ]
  },
  {
   "cell_type": "code",
   "execution_count": 91,
   "id": "b18bce6d",
   "metadata": {},
   "outputs": [
    {
     "data": {
      "text/plain": [
       "5.4"
      ]
     },
     "execution_count": 91,
     "metadata": {},
     "output_type": "execute_result"
    }
   ],
   "source": [
    "portfolio_return_weight2=round(np.dot(anual_return,weight2)*100,2)\n",
    "portfolio_return_weight2"
   ]
  },
  {
   "cell_type": "code",
   "execution_count": null,
   "id": "637c692e",
   "metadata": {},
   "outputs": [],
   "source": []
  }
 ],
 "metadata": {
  "kernelspec": {
   "display_name": "Python 3 (ipykernel)",
   "language": "python",
   "name": "python3"
  },
  "language_info": {
   "codemirror_mode": {
    "name": "ipython",
    "version": 3
   },
   "file_extension": ".py",
   "mimetype": "text/x-python",
   "name": "python",
   "nbconvert_exporter": "python",
   "pygments_lexer": "ipython3",
   "version": "3.9.12"
  }
 },
 "nbformat": 4,
 "nbformat_minor": 5
}
